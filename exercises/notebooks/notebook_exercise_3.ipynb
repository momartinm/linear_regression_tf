{
  "nbformat": 4,
  "nbformat_minor": 0,
  "metadata": {
    "colab": {
      "name": "Exercise_3_linear_regression_tf.ipynb",
      "provenance": [],
      "collapsed_sections": []
    },
    "kernelspec": {
      "name": "python3",
      "display_name": "Python 3"
    }
  },
  "cells": [
    {
      "cell_type": "markdown",
      "metadata": {
        "id": "-uURam4gRbyb",
        "colab_type": "text"
      },
      "source": [
        "#Ejercicio 3\n",
        "\n",
        "Este cuaderno describe los diferentes pasos a realizar para construir un modelo de regresión lineal múltiple."
      ]
    },
    {
      "cell_type": "markdown",
      "metadata": {
        "id": "Oe0p34MDqj-x",
        "colab_type": "text"
      },
      "source": [
        "#Paso 1 - Instalación de librerías"
      ]
    },
    {
      "cell_type": "code",
      "metadata": {
        "id": "ZwY5lDXZRbI6",
        "colab_type": "code",
        "colab": {}
      },
      "source": [
        ""
      ],
      "execution_count": null,
      "outputs": []
    },
    {
      "cell_type": "markdown",
      "metadata": {
        "id": "zkz4g6L7qfUp",
        "colab_type": "text"
      },
      "source": [
        "#Paso 2 - Despliegue de librerías"
      ]
    },
    {
      "cell_type": "code",
      "metadata": {
        "id": "3o_Iy-_hR5Bl",
        "colab_type": "code",
        "colab": {}
      },
      "source": [
        ""
      ],
      "execution_count": null,
      "outputs": []
    },
    {
      "cell_type": "markdown",
      "metadata": {
        "id": "jeSAtjmBqaV0",
        "colab_type": "text"
      },
      "source": [
        "#Paso 3 - Descarga de archivos"
      ]
    },
    {
      "cell_type": "code",
      "metadata": {
        "id": "70GWaBSIfkMv",
        "colab_type": "code",
        "colab": {}
      },
      "source": [
        ""
      ],
      "execution_count": null,
      "outputs": []
    },
    {
      "cell_type": "markdown",
      "metadata": {
        "id": "xslYjpKKqRJQ",
        "colab_type": "text"
      },
      "source": [
        "#Paso 4 - Descompresión y carga de archivos"
      ]
    },
    {
      "cell_type": "code",
      "metadata": {
        "id": "w5npP2BXq5r1",
        "colab_type": "code",
        "colab": {}
      },
      "source": [
        ""
      ],
      "execution_count": null,
      "outputs": []
    },
    {
      "cell_type": "markdown",
      "metadata": {
        "id": "cuaY6lJpqHqv",
        "colab_type": "text"
      },
      "source": [
        "#Paso 5 - Preparación y vusialización de los conjuntos de datos"
      ]
    },
    {
      "cell_type": "code",
      "metadata": {
        "id": "rfyngL3fx2C3",
        "colab_type": "code",
        "colab": {}
      },
      "source": [
        ""
      ],
      "execution_count": null,
      "outputs": []
    },
    {
      "cell_type": "markdown",
      "metadata": {
        "id": "JluW3GUGqAwt",
        "colab_type": "text"
      },
      "source": [
        "#Paso 6 - Construcción de la función de perdida (loss)"
      ]
    },
    {
      "cell_type": "code",
      "metadata": {
        "id": "SCKy6xE88AoL",
        "colab_type": "code",
        "colab": {}
      },
      "source": [
        ""
      ],
      "execution_count": 7,
      "outputs": []
    },
    {
      "cell_type": "markdown",
      "metadata": {
        "id": "FjWIb6i-p8DB",
        "colab_type": "text"
      },
      "source": [
        "#Paso 7 - Construcción del modelo\n",
        "\n",
        "Crear una clase denominada Model para la creación de los modelos. Esta clase tendrá tres métodos:\n",
        "\n",
        "* Método de creación (__init__)\n",
        "* Método de llamada de la recta de regresión (__call__)\n",
        "* Método para añadir valores de evaluación (add)"
      ]
    },
    {
      "cell_type": "code",
      "metadata": {
        "id": "pGThvGZoFXty",
        "colab_type": "code",
        "colab": {}
      },
      "source": [
        ""
      ],
      "execution_count": 8,
      "outputs": []
    },
    {
      "cell_type": "markdown",
      "metadata": {
        "id": "PaggasHaptfQ",
        "colab_type": "text"
      },
      "source": [
        "#Paso 8 - Definición una función para la preparación de los datos\n",
        "\n",
        "Escribir una función en python denominada data_generation que tomará 6 parámetros como entrada:\n",
        "\n",
        "* X que se corresponde con la características (features) de los ejemplos.\n",
        "* Y que se corresponde con las etiquetas (labels) de los ejemplos.\n",
        "* num_epochs que se corresponde con el número de iteraciones del proceso (entrenamiento/test).\n",
        "* batch_size que se corresponde con el número de ejemplos de cada uno de los fragmentos de cada iteración."
      ]
    },
    {
      "cell_type": "code",
      "metadata": {
        "id": "-nNgr2Ji8U3O",
        "colab_type": "code",
        "colab": {}
      },
      "source": [
        ""
      ],
      "execution_count": 11,
      "outputs": []
    },
    {
      "cell_type": "markdown",
      "metadata": {
        "id": "5K8e6VfRpnD7",
        "colab_type": "text"
      },
      "source": [
        "#Paso 9 - Definición de la función de evaluación\n",
        "\n",
        "Escribir una función denominada evaluate que tomará 3 parámetros como entrada:\n",
        "* model que corresponde con el modelo a evaluar\n",
        "* X que se corresponde con la características (features) de los ejemplos.\n",
        "* Y que se corresponde con las etiquetas (labels) de los ejemplos."
      ]
    },
    {
      "cell_type": "code",
      "metadata": {
        "id": "yaxWff5ZK2SZ",
        "colab_type": "code",
        "colab": {}
      },
      "source": [
        ""
      ],
      "execution_count": 10,
      "outputs": []
    },
    {
      "cell_type": "markdown",
      "metadata": {
        "id": "cWJUUbPlpQLd",
        "colab_type": "text"
      },
      "source": [
        "#Paso 13 - Definión de la función de entrenamiento\n",
        "\n",
        "Escribir una función denominada train que tomará 4 parámetros como entrada:\n",
        "\n",
        "* features_train que se corresponde con la características (features) de los ejemplos.\n",
        "* labels_train que se corresponde con las etiquetas (labels) de los ejemplos.\n",
        "* num_epochs que se corresponde con el número de iteraciones del proceso de entrenamiento.\n",
        "* learning_rate que se corresponde con la tasa de aprendizaje. "
      ]
    },
    {
      "cell_type": "code",
      "metadata": {
        "id": "j0u8F2ILgNt-",
        "colab_type": "code",
        "colab": {}
      },
      "source": [
        ""
      ],
      "execution_count": 12,
      "outputs": []
    },
    {
      "cell_type": "markdown",
      "metadata": {
        "id": "F1R1cLxlpJ9F",
        "colab_type": "text"
      },
      "source": [
        "#Paso 11 - Visualización de la evolución del loss \n",
        "\n",
        "Escribir una función denominada print_evolution que tomará 1 parámetro como entrada:\n",
        "\n",
        "* model que corresponde con el modelo a visualizar.\n"
      ]
    },
    {
      "cell_type": "code",
      "metadata": {
        "id": "CSkJhi38W4b-",
        "colab_type": "code",
        "colab": {}
      },
      "source": [
        ""
      ],
      "execution_count": 13,
      "outputs": []
    },
    {
      "cell_type": "markdown",
      "metadata": {
        "id": "dNhQzKWNpGNo",
        "colab_type": "text"
      },
      "source": [
        "#Paso 12 - Visualización de la recta de regresión para los conjuntos de entrenamiento y test\n",
        "\n",
        "Escribir una función denominada print_regression_line que tomará 3 parámetros como entrada:\n",
        "* model que corresponde con el modelo a evaluar\n",
        "* X que se corresponde con la características (features) de los ejemplos.\n",
        "* Y que se corresponde con las etiquetas (labels) de los ejemplos."
      ]
    },
    {
      "cell_type": "code",
      "metadata": {
        "id": "ykSf9iYvXD8M",
        "colab_type": "code",
        "colab": {}
      },
      "source": [
        ""
      ],
      "execution_count": 14,
      "outputs": []
    },
    {
      "cell_type": "markdown",
      "metadata": {
        "id": "zwwDY3FLxiM1",
        "colab_type": "text"
      },
      "source": [
        "#Paso 13 - Entrenamiento y visualización de los modelos\n"
      ]
    },
    {
      "cell_type": "code",
      "metadata": {
        "id": "GqnMedCtxi-b",
        "colab_type": "code",
        "colab": {}
      },
      "source": [
        ""
      ],
      "execution_count": null,
      "outputs": []
    },
    {
      "cell_type": "markdown",
      "metadata": {
        "id": "994knCFBzoIj",
        "colab_type": "text"
      },
      "source": [
        "#Paso 14 - Entrenar diferentes modelos"
      ]
    },
    {
      "cell_type": "code",
      "metadata": {
        "id": "JdQXR8uBzoZ7",
        "colab_type": "code",
        "colab": {}
      },
      "source": [
        ""
      ],
      "execution_count": null,
      "outputs": []
    }
  ]
}
