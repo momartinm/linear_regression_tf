{
  "nbformat": 4,
  "nbformat_minor": 0,
  "metadata": {
    "colab": {
      "name": "Exercise_2_linear_regression_tf.ipynb",
      "provenance": [],
      "collapsed_sections": []
    },
    "kernelspec": {
      "name": "python3",
      "display_name": "Python 3"
    }
  },
  "cells": [
    {
      "cell_type": "markdown",
      "metadata": {
        "id": "-uURam4gRbyb",
        "colab_type": "text"
      },
      "source": [
        "Este cuaderno describe los diferentes pasos a realizar para construir un modelo de regresión lineal simple."
      ]
    },
    {
      "cell_type": "markdown",
      "metadata": {
        "id": "Oe0p34MDqj-x",
        "colab_type": "text"
      },
      "source": [
        "#Paso 1 - Instalación de librerías"
      ]
    },
    {
      "cell_type": "code",
      "metadata": {
        "id": "ZwY5lDXZRbI6",
        "colab_type": "code",
        "colab": {}
      },
      "source": [
        ""
      ],
      "execution_count": null,
      "outputs": []
    },
    {
      "cell_type": "markdown",
      "metadata": {
        "id": "zkz4g6L7qfUp",
        "colab_type": "text"
      },
      "source": [
        "#Paso 2 - Despliegue de librerías"
      ]
    },
    {
      "cell_type": "code",
      "metadata": {
        "id": "3o_Iy-_hR5Bl",
        "colab_type": "code",
        "colab": {}
      },
      "source": [
        ""
      ],
      "execution_count": null,
      "outputs": []
    },
    {
      "cell_type": "markdown",
      "metadata": {
        "id": "jeSAtjmBqaV0",
        "colab_type": "text"
      },
      "source": [
        "#Paso 3 - Descarga de archivos"
      ]
    },
    {
      "cell_type": "code",
      "metadata": {
        "id": "70GWaBSIfkMv",
        "colab_type": "code",
        "colab": {}
      },
      "source": [
        ""
      ],
      "execution_count": 146,
      "outputs": []
    },
    {
      "cell_type": "markdown",
      "metadata": {
        "id": "xslYjpKKqRJQ",
        "colab_type": "text"
      },
      "source": [
        "#Paso 4 - Descompresión y carga de archivos"
      ]
    },
    {
      "cell_type": "code",
      "metadata": {
        "id": "w5npP2BXq5r1",
        "colab_type": "code",
        "colab": {}
      },
      "source": [
        ""
      ],
      "execution_count": 146,
      "outputs": []
    },
    {
      "cell_type": "markdown",
      "metadata": {
        "id": "cuaY6lJpqHqv",
        "colab_type": "text"
      },
      "source": [
        "#Paso 5 - Preparación y vusialización de los conjuntos de datos"
      ]
    },
    {
      "cell_type": "code",
      "metadata": {
        "id": "rfyngL3fx2C3",
        "colab_type": "code",
        "colab": {}
      },
      "source": [
        ""
      ],
      "execution_count": null,
      "outputs": []
    },
    {
      "cell_type": "markdown",
      "metadata": {
        "id": "JluW3GUGqAwt",
        "colab_type": "text"
      },
      "source": [
        "#Paso 6 - Construcción de la función de perdida (loss)"
      ]
    },
    {
      "cell_type": "code",
      "metadata": {
        "id": "SCKy6xE88AoL",
        "colab_type": "code",
        "colab": {}
      },
      "source": [
        ""
      ],
      "execution_count": null,
      "outputs": []
    },
    {
      "cell_type": "markdown",
      "metadata": {
        "id": "FjWIb6i-p8DB",
        "colab_type": "text"
      },
      "source": [
        "#Paso 7 - Construcción del modelo"
      ]
    },
    {
      "cell_type": "code",
      "metadata": {
        "id": "pGThvGZoFXty",
        "colab_type": "code",
        "colab": {}
      },
      "source": [
        ""
      ],
      "execution_count": null,
      "outputs": []
    },
    {
      "cell_type": "markdown",
      "metadata": {
        "id": "PaggasHaptfQ",
        "colab_type": "text"
      },
      "source": [
        "#Paso 8 - Definición una función para la preparación de los datos\n",
        "\n",
        "Escribir una función en python denominada data_generation que tomará 6 parámetros como entrada:\n",
        "\n",
        "* X que se corresponde con la características (features) de los ejemplos.\n",
        "* Y que se corresponde con las etiquetas (labels) de los ejemplos.\n",
        "* num_epochs que se corresponde con el número de iteraciones del proceso (entrenamiento/test).\n",
        "* batch_size que se corresponde con el número de ejemplos de cada uno de los fragmentos de cada iteración."
      ]
    },
    {
      "cell_type": "code",
      "metadata": {
        "id": "-nNgr2Ji8U3O",
        "colab_type": "code",
        "colab": {}
      },
      "source": [
        ""
      ],
      "execution_count": null,
      "outputs": []
    },
    {
      "cell_type": "markdown",
      "metadata": {
        "id": "5K8e6VfRpnD7",
        "colab_type": "text"
      },
      "source": [
        "#Paso 9 - Definición de la función de evaluación"
      ]
    },
    {
      "cell_type": "code",
      "metadata": {
        "id": "yaxWff5ZK2SZ",
        "colab_type": "code",
        "colab": {}
      },
      "source": [
        ""
      ],
      "execution_count": null,
      "outputs": []
    },
    {
      "cell_type": "markdown",
      "metadata": {
        "id": "j7PSKdGJpYbs",
        "colab_type": "text"
      },
      "source": [
        "#Paso 10 - Definión de la función de entrenamiento"
      ]
    },
    {
      "cell_type": "code",
      "metadata": {
        "id": "2PHlR9Ahdp4V",
        "colab_type": "code",
        "colab": {}
      },
      "source": [
        ""
      ],
      "execution_count": 146,
      "outputs": []
    },
    {
      "cell_type": "markdown",
      "metadata": {
        "id": "cWJUUbPlpQLd",
        "colab_type": "text"
      },
      "source": [
        "#Paso 11 - Entrenamiento del modelo"
      ]
    },
    {
      "cell_type": "code",
      "metadata": {
        "id": "j0u8F2ILgNt-",
        "colab_type": "code",
        "colab": {}
      },
      "source": [
        "\n"
      ],
      "execution_count": 146,
      "outputs": []
    },
    {
      "cell_type": "markdown",
      "metadata": {
        "id": "F1R1cLxlpJ9F",
        "colab_type": "text"
      },
      "source": [
        "#Paso 12 - Visualización de la evolución del loss \n"
      ]
    },
    {
      "cell_type": "code",
      "metadata": {
        "id": "CSkJhi38W4b-",
        "colab_type": "code",
        "colab": {}
      },
      "source": [
        ""
      ],
      "execution_count": 146,
      "outputs": []
    },
    {
      "cell_type": "markdown",
      "metadata": {
        "id": "dNhQzKWNpGNo",
        "colab_type": "text"
      },
      "source": [
        "#Paso 13 - Visualización de la recta de regresión para los conjuntos de entrenamiento y test"
      ]
    },
    {
      "cell_type": "code",
      "metadata": {
        "id": "ykSf9iYvXD8M",
        "colab_type": "code",
        "colab": {}
      },
      "source": [
        "\n"
      ],
      "execution_count": 146,
      "outputs": []
    }
  ]
}
