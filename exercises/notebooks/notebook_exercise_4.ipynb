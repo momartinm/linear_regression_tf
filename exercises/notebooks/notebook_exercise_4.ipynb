{
  "nbformat": 4,
  "nbformat_minor": 0,
  "metadata": {
    "colab": {
      "name": "Exercise_2_linear_regression_tf.ipynb",
      "provenance": [],
      "collapsed_sections": []
    },
    "kernelspec": {
      "name": "python3",
      "display_name": "Python 3"
    }
  },
  "cells": [
    {
      "cell_type": "markdown",
      "metadata": {
        "id": "-uURam4gRbyb",
        "colab_type": "text"
      },
      "source": [
        "Este cuaderno describe los diferentes pasos a realizar para construir un modelo de regresión lineal simple."
      ]
    },
    {
      "cell_type": "markdown",
      "metadata": {
        "id": "Oe0p34MDqj-x",
        "colab_type": "text"
      },
      "source": [
        "#Paso 1 - Instalación de librerías"
      ]
    },
    {
      "cell_type": "code",
      "metadata": {
        "id": "ZwY5lDXZRbI6",
        "colab_type": "code",
        "colab": {}
      },
      "source": [
        ""
      ],
      "execution_count": null,
      "outputs": []
    },
    {
      "cell_type": "markdown",
      "metadata": {
        "id": "zkz4g6L7qfUp",
        "colab_type": "text"
      },
      "source": [
        "#Paso 2 - Despliegue de librerías"
      ]
    },
    {
      "cell_type": "code",
      "metadata": {
        "id": "3o_Iy-_hR5Bl",
        "colab_type": "code",
        "colab": {}
      },
      "source": [
        ""
      ],
      "execution_count": null,
      "outputs": []
    },
    {
      "cell_type": "markdown",
      "metadata": {
        "id": "jeSAtjmBqaV0",
        "colab_type": "text"
      },
      "source": [
        "#Paso 3 - Descarga de archivos"
      ]
    },
    {
      "cell_type": "code",
      "metadata": {
        "id": "70GWaBSIfkMv",
        "colab_type": "code",
        "colab": {}
      },
      "source": [
        "data_path = 'data'\n",
        "\n",
        "try:\n",
        "  os.makedirs(data_path, mode=0o777, exist_ok=False)\n",
        "except OSError:\n",
        "    print (\"El directorio %s no hay podido ser creado o ya existe.\" % (data_path))\n",
        "else:\n",
        "    print (\"El directorio %s ha sido creado correctamente.\" % (data_path))\n",
        "    \n",
        "!wget --no-check-certificate --content-disposition \\\n",
        "    https://github.com/momartinm/linear_regression_tf/tree/master/data/neolen-house-price-prediction-kaggle.zip \\\n",
        "    -O /content/data/neolen-house-price-prediction-kaggle.zip"
      ],
      "execution_count": 146,
      "outputs": []
    },
    {
      "cell_type": "markdown",
      "metadata": {
        "id": "xslYjpKKqRJQ",
        "colab_type": "text"
      },
      "source": [
        "#Paso 4 - Descompresión y carga de archivos"
      ]
    },
    {
      "cell_type": "code",
      "metadata": {
        "id": "w5npP2BXq5r1",
        "colab_type": "code",
        "colab": {}
      },
      "source": [
        "local_zip = '/content/data/neolen-house-price-prediction-kaggle.zip'\n",
        "\n",
        "try:\n",
        "  zip_ref = zipfile.ZipFile(local_zip, 'r')\n",
        "  zip_ref.extractall(data_path)\n",
        "  zip_ref.close()\n",
        "except Expection:\n",
        "    print (\"El archivo no ha podido ser descomprimido.\" % (local_zip))"
      ],
      "execution_count": 146,
      "outputs": []
    },
    {
      "cell_type": "markdown",
      "metadata": {
        "id": "cuaY6lJpqHqv",
        "colab_type": "text"
      },
      "source": [
        "#Paso 5 - Preparación y vusialización de los conjuntos de datos"
      ]
    },
    {
      "cell_type": "code",
      "metadata": {
        "id": "rfyngL3fx2C3",
        "colab_type": "code",
        "colab": {}
      },
      "source": [
        ""
      ],
      "execution_count": null,
      "outputs": []
    },
    {
      "cell_type": "markdown",
      "metadata": {
        "id": "JluW3GUGqAwt",
        "colab_type": "text"
      },
      "source": [
        "#Paso 6 - Generación de la red"
      ]
    },
    {
      "cell_type": "code",
      "metadata": {
        "id": "SCKy6xE88AoL",
        "colab_type": "code",
        "colab": {}
      },
      "source": [
        ""
      ],
      "execution_count": null,
      "outputs": []
    },
    {
      "cell_type": "markdown",
      "metadata": {
        "id": "FjWIb6i-p8DB",
        "colab_type": "text"
      },
      "source": [
        "#Paso 7 - Generación de la función de optimización\n",
        "\n"
      ]
    },
    {
      "cell_type": "code",
      "metadata": {
        "id": "pGThvGZoFXty",
        "colab_type": "code",
        "colab": {}
      },
      "source": [
        ""
      ],
      "execution_count": null,
      "outputs": []
    },
    {
      "cell_type": "markdown",
      "metadata": {
        "id": "PaggasHaptfQ",
        "colab_type": "text"
      },
      "source": [
        "#Paso 8 - Compilación de la red"
      ]
    },
    {
      "cell_type": "code",
      "metadata": {
        "id": "-nNgr2Ji8U3O",
        "colab_type": "code",
        "colab": {}
      },
      "source": [
        ""
      ],
      "execution_count": null,
      "outputs": []
    },
    {
      "cell_type": "markdown",
      "metadata": {
        "id": "5K8e6VfRpnD7",
        "colab_type": "text"
      },
      "source": [
        "#Paso 9 - Definición de bucle de entrenamiento (Función)"
      ]
    },
    {
      "cell_type": "code",
      "metadata": {
        "id": "yaxWff5ZK2SZ",
        "colab_type": "code",
        "colab": {}
      },
      "source": [
        ""
      ],
      "execution_count": null,
      "outputs": []
    },
    {
      "cell_type": "markdown",
      "metadata": {
        "id": "j7PSKdGJpYbs",
        "colab_type": "text"
      },
      "source": [
        "#Paso 10 - Ejecución del proceso de entrenamiento"
      ]
    },
    {
      "cell_type": "code",
      "metadata": {
        "id": "2PHlR9Ahdp4V",
        "colab_type": "code",
        "colab": {}
      },
      "source": [
        ""
      ],
      "execution_count": 146,
      "outputs": []
    },
    {
      "cell_type": "markdown",
      "metadata": {
        "id": "cWJUUbPlpQLd",
        "colab_type": "text"
      },
      "source": [
        "#Paso 11 - Visualización de los resultados con TensorFlowBoard"
      ]
    },
    {
      "cell_type": "code",
      "metadata": {
        "id": "j0u8F2ILgNt-",
        "colab_type": "code",
        "colab": {}
      },
      "source": [
        "\n"
      ],
      "execution_count": 146,
      "outputs": []
    },
    {
      "cell_type": "markdown",
      "metadata": {
        "id": "F1R1cLxlpJ9F",
        "colab_type": "text"
      },
      "source": [
        "#Paso 12 - Almacenamiento de nuestro modelo\n"
      ]
    },
    {
      "cell_type": "code",
      "metadata": {
        "id": "CSkJhi38W4b-",
        "colab_type": "code",
        "colab": {}
      },
      "source": [
        ""
      ],
      "execution_count": 146,
      "outputs": []
    },
    {
      "cell_type": "markdown",
      "metadata": {
        "id": "dNhQzKWNpGNo",
        "colab_type": "text"
      },
      "source": [
        "#Paso 13 - Visualización de la recta de regresión para los conjuntos de entrenamiento y test"
      ]
    },
    {
      "cell_type": "code",
      "metadata": {
        "id": "ykSf9iYvXD8M",
        "colab_type": "code",
        "colab": {}
      },
      "source": [
        "\n"
      ],
      "execution_count": 146,
      "outputs": []
    }
  ]
}
