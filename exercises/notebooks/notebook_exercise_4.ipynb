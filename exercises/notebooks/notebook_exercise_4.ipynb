{
  "nbformat": 4,
  "nbformat_minor": 0,
  "metadata": {
    "colab": {
      "name": "Exercise_4_linear_regression_tf.ipynb",
      "provenance": [],
      "collapsed_sections": []
    },
    "kernelspec": {
      "name": "python3",
      "display_name": "Python 3"
    }
  },
  "cells": [
    {
      "cell_type": "markdown",
      "metadata": {
        "id": "-uURam4gRbyb",
        "colab_type": "text"
      },
      "source": [
        "Este cuaderno describe los diferentes pasos a realizar para construir un modelo de regresión lineal simple."
      ]
    },
    {
      "cell_type": "markdown",
      "metadata": {
        "id": "Oe0p34MDqj-x",
        "colab_type": "text"
      },
      "source": [
        "#Paso 1 - Instalación de librerías"
      ]
    },
    {
      "cell_type": "code",
      "metadata": {
        "id": "ZwY5lDXZRbI6",
        "colab_type": "code",
        "colab": {}
      },
      "source": [
        ""
      ],
      "execution_count": null,
      "outputs": []
    },
    {
      "cell_type": "markdown",
      "metadata": {
        "id": "zkz4g6L7qfUp",
        "colab_type": "text"
      },
      "source": [
        "#Paso 2 - Despliegue de librerías"
      ]
    },
    {
      "cell_type": "code",
      "metadata": {
        "id": "3o_Iy-_hR5Bl",
        "colab_type": "code",
        "colab": {}
      },
      "source": [
        ""
      ],
      "execution_count": null,
      "outputs": []
    },
    {
      "cell_type": "markdown",
      "metadata": {
        "id": "jeSAtjmBqaV0",
        "colab_type": "text"
      },
      "source": [
        "#Paso 3 - Descarga de archivos"
      ]
    },
    {
      "cell_type": "code",
      "metadata": {
        "id": "70GWaBSIfkMv",
        "colab_type": "code",
        "colab": {}
      },
      "source": [
        "data_path = 'data'\n",
        "\n",
        "try:\n",
        "  os.makedirs(data_path, mode=0o777, exist_ok=False)\n",
        "except OSError:\n",
        "    print (\"El directorio %s no hay podido ser creado o ya existe.\" % (data_path))\n",
        "else:\n",
        "    print (\"El directorio %s ha sido creado correctamente.\" % (data_path))\n",
        "    \n",
        "!wget --no-check-certificate --content-disposition \\\n",
        "    https://github.com/momartinm/linear_regression_tf/raw/master/data/neolen-house-price-prediction-kaggle.zip \\\n",
        "    -O /content/data/neolen-house-price-prediction-kaggle.zip"
      ],
      "execution_count": null,
      "outputs": []
    },
    {
      "cell_type": "markdown",
      "metadata": {
        "id": "xslYjpKKqRJQ",
        "colab_type": "text"
      },
      "source": [
        "#Paso 4 - Descompresión y carga de archivos"
      ]
    },
    {
      "cell_type": "code",
      "metadata": {
        "id": "w5npP2BXq5r1",
        "colab_type": "code",
        "colab": {}
      },
      "source": [
        "local_zip = '/content/data/neolen-house-price-prediction-kaggle.zip'\n",
        "\n",
        "try:\n",
        "  zip_ref = zipfile.ZipFile(local_zip, 'r')\n",
        "  zip_ref.extractall(data_path)\n",
        "  zip_ref.close()\n",
        "except Expection:\n",
        "    print (\"El archivo no ha podido ser descomprimido.\" % (local_zip))"
      ],
      "execution_count": null,
      "outputs": []
    },
    {
      "cell_type": "markdown",
      "metadata": {
        "id": "cuaY6lJpqHqv",
        "colab_type": "text"
      },
      "source": [
        "#Paso 5 - Preparación y visualización de los conjuntos de datos"
      ]
    },
    {
      "cell_type": "code",
      "metadata": {
        "id": "rfyngL3fx2C3",
        "colab_type": "code",
        "colab": {}
      },
      "source": [
        ""
      ],
      "execution_count": null,
      "outputs": []
    },
    {
      "cell_type": "markdown",
      "metadata": {
        "id": "JluW3GUGqAwt",
        "colab_type": "text"
      },
      "source": [
        "#Paso 6 - Generación de la red"
      ]
    },
    {
      "cell_type": "code",
      "metadata": {
        "id": "SCKy6xE88AoL",
        "colab_type": "code",
        "colab": {}
      },
      "source": [
        ""
      ],
      "execution_count": null,
      "outputs": []
    },
    {
      "cell_type": "markdown",
      "metadata": {
        "id": "FjWIb6i-p8DB",
        "colab_type": "text"
      },
      "source": [
        "#Paso 7 - Generación de la función de optimización\n",
        "\n"
      ]
    },
    {
      "cell_type": "code",
      "metadata": {
        "id": "pGThvGZoFXty",
        "colab_type": "code",
        "colab": {}
      },
      "source": [
        ""
      ],
      "execution_count": null,
      "outputs": []
    },
    {
      "cell_type": "markdown",
      "metadata": {
        "id": "PaggasHaptfQ",
        "colab_type": "text"
      },
      "source": [
        "#Paso 8 - Compilación de la red"
      ]
    },
    {
      "cell_type": "code",
      "metadata": {
        "id": "-nNgr2Ji8U3O",
        "colab_type": "code",
        "colab": {}
      },
      "source": [
        ""
      ],
      "execution_count": null,
      "outputs": []
    },
    {
      "cell_type": "markdown",
      "metadata": {
        "id": "5K8e6VfRpnD7",
        "colab_type": "text"
      },
      "source": [
        "#Paso 9 - Definión de la función de entrenamiento\n",
        "\n",
        "Escribir una función denominada train que tomará 6 parámetros como entrada:\n",
        "\n",
        "- net: Que se corresponde con la red secuencial que hemos definido previamente.\n",
        "- X que se corresponde con la características (features) de los ejemplos.\n",
        "- Y que se corresponde con las etiquetas (labels) de los ejemplos.\n",
        "- training_iters: Que se corresponde con el número de iteraciones del proceso de entrenamiento.\n",
        "- batch_size: Que se corresponde con el tamaño de los conjuntos de entrenamiento que se utilizarán. \n",
        "- validation_split: Que se corresponde con el tamaño del cojunto de validación. Es decir, el conjunto de entrada (x_shaped_array) se divirá en dos conjunto: (1) el conjunto de entrenamiento que contendrá el 90% de los ejemplos; y (2) el conjunto de validación que contendrá el 10% de los ejemplos. El primero ser utilizada para cada iteración de entrenamiento, mientras que el segundo será utilizado para validar el modelo después de cada iteración. "
      ]
    },
    {
      "cell_type": "code",
      "metadata": {
        "id": "yaxWff5ZK2SZ",
        "colab_type": "code",
        "colab": {}
      },
      "source": [
        ""
      ],
      "execution_count": null,
      "outputs": []
    },
    {
      "cell_type": "markdown",
      "metadata": {
        "id": "j7PSKdGJpYbs",
        "colab_type": "text"
      },
      "source": [
        "#Paso 10 - Visualización de la recta de regresión para los conjuntos de entrenamiento y test\n",
        "\n",
        "Escribir una función denominada print_evolution que tomará 4 parámetro como entrada:\n",
        "\n",
        "* model (model) que corresponde con el modelo a visualizar.\n",
        "* X_print que se corresponde el conjunto de valores para la generación de la gráfica (1 dimensión).\n",
        "* X que se corresponde con el conjunto de valores de entrenamiento (n dimensiones). \n",
        "* Y que se corresponde con el valores esperado (etiquetaS)."
      ]
    },
    {
      "cell_type": "code",
      "metadata": {
        "id": "2PHlR9Ahdp4V",
        "colab_type": "code",
        "colab": {}
      },
      "source": [
        ""
      ],
      "execution_count": null,
      "outputs": []
    },
    {
      "cell_type": "markdown",
      "metadata": {
        "id": "cWJUUbPlpQLd",
        "colab_type": "text"
      },
      "source": [
        "#Paso 11 - Ejecución del proceso de entrenamiento"
      ]
    },
    {
      "cell_type": "code",
      "metadata": {
        "id": "j0u8F2ILgNt-",
        "colab_type": "code",
        "colab": {}
      },
      "source": [
        "\n"
      ],
      "execution_count": null,
      "outputs": []
    },
    {
      "cell_type": "markdown",
      "metadata": {
        "id": "F1R1cLxlpJ9F",
        "colab_type": "text"
      },
      "source": [
        "#Paso 12 - Visualización de los resultados con TensorFlowBoard\n"
      ]
    },
    {
      "cell_type": "code",
      "metadata": {
        "id": "CSkJhi38W4b-",
        "colab_type": "code",
        "colab": {}
      },
      "source": [
        ""
      ],
      "execution_count": null,
      "outputs": []
    },
    {
      "cell_type": "markdown",
      "metadata": {
        "id": "dNhQzKWNpGNo",
        "colab_type": "text"
      },
      "source": [
        "#Paso 13 - Entrenando otros modelos"
      ]
    },
    {
      "cell_type": "code",
      "metadata": {
        "id": "ykSf9iYvXD8M",
        "colab_type": "code",
        "colab": {}
      },
      "source": [
        "\n"
      ],
      "execution_count": null,
      "outputs": []
    },
    {
      "cell_type": "markdown",
      "metadata": {
        "id": "d6fuOc9IyGOD",
        "colab_type": "text"
      },
      "source": [
        "#Paso 14: Almacenamiento de nuestro modelo"
      ]
    },
    {
      "cell_type": "code",
      "metadata": {
        "id": "CmbhSJaNyGWm",
        "colab_type": "code",
        "colab": {}
      },
      "source": [
        ""
      ],
      "execution_count": null,
      "outputs": []
    },
    {
      "cell_type": "markdown",
      "metadata": {
        "id": "eWkRcg9-yGiA",
        "colab_type": "text"
      },
      "source": [
        "#Paso 15 - Carga del modelo previamente guardado"
      ]
    },
    {
      "cell_type": "code",
      "metadata": {
        "id": "e2Gn_coayGqg",
        "colab_type": "code",
        "colab": {}
      },
      "source": [
        ""
      ],
      "execution_count": null,
      "outputs": []
    }
  ]
}
